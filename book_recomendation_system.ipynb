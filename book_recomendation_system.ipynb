{
 "cells": [
  {
   "cell_type": "markdown",
   "metadata": {},
   "source": [
    "Book Recommendation System"
   ]
  },
  {
   "cell_type": "markdown",
   "metadata": {},
   "source": [
    "Importing the necessary Python libraries and the dataset"
   ]
  },
  {
   "cell_type": "code",
   "execution_count": null,
   "metadata": {},
   "outputs": [],
   "source": [
    "import numpy as np \n",
    "import pandas as pd\n",
    "import seaborn as sns\n",
    "import matplotlib.pyplot as plt\n",
    "from sklearn.cluster import KMeans\n",
    "from sklearn import neighbors\n",
    "from sklearn.model_selection import train_test_split\n",
    "from sklearn.preprocessing import MinMaxScaler\n",
    "\n",
    "# Open the CSV file and handle errors while reading\n",
    "try:\n",
    "    with open('books.csv', 'r', errors='ignore') as file:\n",
    "        df = pd.read_csv(file)\n",
    "        # Display the first few rows of the DataFrame\n",
    "        df.head()\n",
    "except Exception as e:\n",
    "    print(\"Error:\", e)\n",
    "    print(\"Failed to read the CSV file.\")\n"
   ]
  },
  {
   "cell_type": "code",
   "execution_count": null,
   "metadata": {},
   "outputs": [],
   "source": [
    "df.head()"
   ]
  },
  {
   "cell_type": "markdown",
   "metadata": {},
   "source": [
    "Data Exploration"
   ]
  },
  {
   "cell_type": "code",
   "execution_count": null,
   "metadata": {},
   "outputs": [],
   "source": [
    "df.isnull().sum()"
   ]
  },
  {
   "cell_type": "code",
   "execution_count": null,
   "metadata": {},
   "outputs": [],
   "source": [
    "df.describe()"
   ]
  },
  {
   "cell_type": "code",
   "execution_count": null,
   "metadata": {},
   "outputs": [],
   "source": [
    "top_ten = df[df['ratings_count'] > 1000000]\n",
    "\n",
    "# Sort the filtered DataFrame by average rating in descending order\n",
    "top_ten = top_ten.sort_values(by='average_rating', ascending=False)\n",
    "\n",
    "# Plot the top 10 books by average rating\n",
    "plt.figure(figsize=(10, 10))\n",
    "data = top_ten.head(10)\n",
    "sns.barplot(x=\"average_rating\", y=\"title\", data=data, palette='inferno')\n",
    "plt.xlabel('Average Rating')\n",
    "plt.ylabel('Title')\n",
    "plt.title('Top 10 Books by Average Rating')\n",
    "plt.show()"
   ]
  },
  {
   "cell_type": "code",
   "execution_count": null,
   "metadata": {},
   "outputs": [],
   "source": [
    "most_books = df.groupby('authors')['title'].count().reset_index().sort_values('title', ascending=False).head(10).set_index('authors')\n",
    "\n",
    "# Plot the bar chart\n",
    "plt.figure(figsize=(15,10))\n",
    "ax = sns.barplot(x=most_books['title'], y=most_books.index, palette='inferno')\n",
    "ax.set_title(\"Top 10 authors with most books\")\n",
    "ax.set_xlabel(\"Total number of books\")\n",
    "\n",
    "# Add text labels to the bars\n",
    "for i in ax.patches:\n",
    "    ax.text(i.get_width()+0.2, i.get_y() + i.get_height()/2, str(round(i.get_width())), fontsize=12, color='black')\n",
    "\n",
    "plt.show()"
   ]
  },
  {
   "cell_type": "code",
   "execution_count": null,
   "metadata": {},
   "outputs": [],
   "source": [
    "most_rated = df.sort_values('ratings_count', ascending=False).head(10).set_index('title')\n",
    "\n",
    "# Plot the bar chart\n",
    "plt.figure(figsize=(15,10))\n",
    "ax = sns.barplot(x=most_rated['ratings_count'], y=most_rated.index, palette='inferno')\n",
    "\n",
    "# Add text labels to the bars\n",
    "for i in ax.patches:\n",
    "    ax.text(i.get_width()+0.2, i.get_y() + i.get_height()/2, str(round(i.get_width())), fontsize=12, color='black')\n",
    "\n",
    "plt.xlabel('Number of Ratings')\n",
    "plt.ylabel('Book Title')\n",
    "plt.title('Top 10 Most Rated Books')\n",
    "plt.show()"
   ]
  },
  {
   "cell_type": "code",
   "execution_count": null,
   "metadata": {},
   "outputs": [],
   "source": [
    "df.average_rating = df.average_rating.astype(float)\n",
    "fig, ax = plt.subplots(figsize=[15,10])\n",
    "sns.distplot(df['average_rating'],ax=ax)\n",
    "ax.set_title('Average rating distribution for all books',fontsize=20)\n",
    "ax.set_xlabel('Average rating',fontsize=13)"
   ]
  },
  {
   "cell_type": "code",
   "execution_count": null,
   "metadata": {},
   "outputs": [],
   "source": [
    "ax = sns.relplot(data=df, x=\"average_rating\", y=\"ratings_count\", color = 'red', sizes=(100, 200), height=7, marker='o')\n",
    "plt.title(\"Relation between Rating counts and Average Ratings\",fontsize = 15)\n",
    "ax.set_axis_labels(\"Average Rating\", \"Ratings Count\")"
   ]
  },
  {
   "cell_type": "code",
   "execution_count": null,
   "metadata": {},
   "outputs": [],
   "source": [
    "plt.figure(figsize=(15,10))\n",
    "ax = sns.relplot(x=\"average_rating\", y=\"  num_pages\", data = df, color = 'red',sizes=(100, 200), height=7, marker='o')\n",
    "ax.set_axis_labels(\"Average Rating\", \"Number of Pages\")"
   ]
  },
  {
   "cell_type": "markdown",
   "metadata": {},
   "source": [
    "Data Preparation"
   ]
  },
  {
   "cell_type": "code",
   "execution_count": null,
   "metadata": {},
   "outputs": [],
   "source": [
    "df2 = df.copy()"
   ]
  },
  {
   "cell_type": "code",
   "execution_count": null,
   "metadata": {},
   "outputs": [],
   "source": [
    "df2.loc[ (df2['average_rating'] >= 0) & (df2['average_rating'] <= 1), 'rating_between'] = \"between 0 and 1\"\n",
    "df2.loc[ (df2['average_rating'] > 1) & (df2['average_rating'] <= 2), 'rating_between'] = \"between 1 and 2\"\n",
    "df2.loc[ (df2['average_rating'] > 2) & (df2['average_rating'] <= 3), 'rating_between'] = \"between 2 and 3\"\n",
    "df2.loc[ (df2['average_rating'] > 3) & (df2['average_rating'] <= 4), 'rating_between'] = \"between 3 and 4\"\n",
    "df2.loc[ (df2['average_rating'] > 4) & (df2['average_rating'] <= 5), 'rating_between'] = \"between 4 and 5\"\n"
   ]
  },
  {
   "cell_type": "code",
   "execution_count": null,
   "metadata": {},
   "outputs": [],
   "source": [
    "rating_df = pd.get_dummies(df2['rating_between'])\n",
    "language_df = pd.get_dummies(df2['language_code'])"
   ]
  },
  {
   "cell_type": "code",
   "execution_count": null,
   "metadata": {},
   "outputs": [],
   "source": [
    "features = pd.concat([rating_df, \n",
    "                      language_df, \n",
    "                      df2['average_rating'], \n",
    "                      df2['ratings_count']], axis=1)"
   ]
  },
  {
   "cell_type": "markdown",
   "metadata": {},
   "source": [
    "Final Step"
   ]
  },
  {
   "cell_type": "code",
   "execution_count": null,
   "metadata": {},
   "outputs": [],
   "source": [
    "from sklearn.preprocessing import MinMaxScaler\n",
    "min_max_scaler = MinMaxScaler()\n",
    "features = min_max_scaler.fit_transform(features)"
   ]
  },
  {
   "cell_type": "code",
   "execution_count": null,
   "metadata": {},
   "outputs": [],
   "source": [
    "model = neighbors.NearestNeighbors(n_neighbors=6, algorithm='ball_tree')\n",
    "model.fit(features)\n",
    "dist, idlist = model.kneighbors(features)"
   ]
  },
  {
   "cell_type": "code",
   "execution_count": null,
   "metadata": {},
   "outputs": [],
   "source": [
    "def BookRecommender(book_name):\n",
    "    book_list_name = []\n",
    "    book_id = df2[df2['title'] == book_name].index\n",
    "    book_id = book_id[0]\n",
    "    for newid in idlist[book_id]:\n",
    "        book_list_name.append(df2.loc[newid].title)\n",
    "    return book_list_name\n",
    "    \n",
    "BookNames = BookRecommender('Harry Potter and the Half-Blood Prince (Harry Potter  #6)')\n",
    "BookNames"
   ]
  }
 ],
 "metadata": {
  "kernelspec": {
   "display_name": "Python 3",
   "language": "python",
   "name": "python3"
  },
  "language_info": {
   "codemirror_mode": {
    "name": "ipython",
    "version": 3
   },
   "file_extension": ".py",
   "mimetype": "text/x-python",
   "name": "python",
   "nbconvert_exporter": "python",
   "pygments_lexer": "ipython3",
   "version": "3.11.3"
  }
 },
 "nbformat": 4,
 "nbformat_minor": 2
}
